{
 "cells": [
  {
   "cell_type": "code",
   "execution_count": null,
   "metadata": {},
   "outputs": [],
   "source": [
    "# Encode the CSV as utf-8 for python\n",
    "import csv\n",
    "\n",
    "path =  './training_set.csv'\n",
    "\n",
    "with open(path, 'r', encoding='utf-8', errors='ignore') as infile, open('training_set_encoded.csv', 'w') as outfile:\n",
    "     inputs = csv.reader(infile)\n",
    "     output = csv.writer(outfile)\n",
    "\n",
    "     for index, row in enumerate(inputs):\n",
    "#          # Create file with no header\n",
    "#          if index == 0:\n",
    "#              continue\n",
    "#          print(row)\n",
    "         output.writerow(row)"
   ]
  },
  {
   "cell_type": "code",
   "execution_count": 16,
   "metadata": {},
   "outputs": [],
   "source": [
    "import pandas as pd\n",
    "import numpy as np\n",
    "from xgboost import XGBRegressor\n",
    "from sklearn.model_selection import train_test_split\n",
    "from sklearn.preprocessing import LabelEncoder\n",
    "from sklearn.metrics import mean_absolute_error"
   ]
  },
  {
   "cell_type": "code",
   "execution_count": 17,
   "metadata": {},
   "outputs": [],
   "source": [
    "# MacOS garbage\n",
    "import os\n",
    "os.environ['KMP_DUPLICATE_LIB_OK']='True'"
   ]
  },
  {
   "cell_type": "code",
   "execution_count": 18,
   "metadata": {
    "scrolled": false
   },
   "outputs": [
    {
     "data": {
      "text/html": [
       "<div>\n",
       "<style scoped>\n",
       "    .dataframe tbody tr th:only-of-type {\n",
       "        vertical-align: middle;\n",
       "    }\n",
       "\n",
       "    .dataframe tbody tr th {\n",
       "        vertical-align: top;\n",
       "    }\n",
       "\n",
       "    .dataframe thead th {\n",
       "        text-align: right;\n",
       "    }\n",
       "</style>\n",
       "<table border=\"1\" class=\"dataframe\">\n",
       "  <thead>\n",
       "    <tr style=\"text-align: right;\">\n",
       "      <th></th>\n",
       "      <th>Engagements</th>\n",
       "      <th>Followers at Posting</th>\n",
       "      <th>Created</th>\n",
       "      <th>Type</th>\n",
       "      <th>Description</th>\n",
       "    </tr>\n",
       "  </thead>\n",
       "  <tbody>\n",
       "    <tr>\n",
       "      <th>0</th>\n",
       "      <td>502093</td>\n",
       "      <td>36984682</td>\n",
       "      <td>2019-05-21 23:30:51 EDT</td>\n",
       "      <td>Video</td>\n",
       "      <td>The @raptors bench trio of @sergeibaka @norman...</td>\n",
       "    </tr>\n",
       "    <tr>\n",
       "      <th>1</th>\n",
       "      <td>603380</td>\n",
       "      <td>36984682</td>\n",
       "      <td>2019-05-21 22:53:33 EDT</td>\n",
       "      <td>Video</td>\n",
       "      <td>@kyle_lowry7 pulls from deep for the @raptors ...</td>\n",
       "    </tr>\n",
       "    <tr>\n",
       "      <th>2</th>\n",
       "      <td>603380</td>\n",
       "      <td>36984682</td>\n",
       "      <td>2019-05-21 22:19:58 EDT</td>\n",
       "      <td>Video</td>\n",
       "      <td>@k_mid22 with some english on the @bucks dime!</td>\n",
       "    </tr>\n",
       "    <tr>\n",
       "      <th>3</th>\n",
       "      <td>725100</td>\n",
       "      <td>36984682</td>\n",
       "      <td>2019-05-21 22:02:41 EDT</td>\n",
       "      <td>Video</td>\n",
       "      <td>Kawhi punches it home with the left on TNT!</td>\n",
       "    </tr>\n",
       "    <tr>\n",
       "      <th>4</th>\n",
       "      <td>661446</td>\n",
       "      <td>36984682</td>\n",
       "      <td>2019-05-21 20:47:49 EDT</td>\n",
       "      <td>Video</td>\n",
       "      <td>@giannis_an34 goes baseline early to rock the ...</td>\n",
       "    </tr>\n",
       "  </tbody>\n",
       "</table>\n",
       "</div>"
      ],
      "text/plain": [
       "   Engagements  Followers at Posting                  Created   Type  \\\n",
       "0       502093              36984682  2019-05-21 23:30:51 EDT  Video   \n",
       "1       603380              36984682  2019-05-21 22:53:33 EDT  Video   \n",
       "2       603380              36984682  2019-05-21 22:19:58 EDT  Video   \n",
       "3       725100              36984682  2019-05-21 22:02:41 EDT  Video   \n",
       "4       661446              36984682  2019-05-21 20:47:49 EDT  Video   \n",
       "\n",
       "                                         Description  \n",
       "0  The @raptors bench trio of @sergeibaka @norman...  \n",
       "1  @kyle_lowry7 pulls from deep for the @raptors ...  \n",
       "2     @k_mid22 with some english on the @bucks dime!  \n",
       "3        Kawhi punches it home with the left on TNT!  \n",
       "4  @giannis_an34 goes baseline early to rock the ...  "
      ]
     },
     "execution_count": 18,
     "metadata": {},
     "output_type": "execute_result"
    }
   ],
   "source": [
    "train_df = pd.read_csv('./training_set_encoded.csv')\n",
    "train_df.head()"
   ]
  },
  {
   "cell_type": "code",
   "execution_count": 19,
   "metadata": {},
   "outputs": [],
   "source": [
    "train_sample_fraction = 0.3\n",
    "y = train_df[['Engagements']]\n",
    "# X = train_df.loc[:, train_df.columns != 'Engagements']\n",
    "X = train_df[['Followers at Posting']]\n",
    "# X.dtypes"
   ]
  },
  {
   "cell_type": "code",
   "execution_count": 25,
   "metadata": {
    "scrolled": true
   },
   "outputs": [
    {
     "name": "stderr",
     "output_type": "stream",
     "text": [
      "/anaconda3/lib/python3.7/site-packages/ipykernel_launcher.py:2: SettingWithCopyWarning: \n",
      "A value is trying to be set on a copy of a slice from a DataFrame.\n",
      "Try using .loc[row_indexer,col_indexer] = value instead\n",
      "\n",
      "See the caveats in the documentation: http://pandas.pydata.org/pandas-docs/stable/indexing.html#indexing-view-versus-copy\n",
      "  \n",
      "/anaconda3/lib/python3.7/site-packages/ipykernel_launcher.py:3: SettingWithCopyWarning: \n",
      "A value is trying to be set on a copy of a slice from a DataFrame.\n",
      "Try using .loc[row_indexer,col_indexer] = value instead\n",
      "\n",
      "See the caveats in the documentation: http://pandas.pydata.org/pandas-docs/stable/indexing.html#indexing-view-versus-copy\n",
      "  This is separate from the ipykernel package so we can avoid doing imports until\n",
      "/anaconda3/lib/python3.7/site-packages/ipykernel_launcher.py:4: SettingWithCopyWarning: \n",
      "A value is trying to be set on a copy of a slice from a DataFrame.\n",
      "Try using .loc[row_indexer,col_indexer] = value instead\n",
      "\n",
      "See the caveats in the documentation: http://pandas.pydata.org/pandas-docs/stable/indexing.html#indexing-view-versus-copy\n",
      "  after removing the cwd from sys.path.\n"
     ]
    }
   ],
   "source": [
    "rows = train_df.size\n",
    "X['Year'] = pd.DataFrame(0, index=range(rows), columns=range(1))\n",
    "X['Month'] = pd.DataFrame(0, index=range(rows), columns=range(1))\n",
    "X['Day'] = pd.DataFrame(0, index=range(rows), columns=range(1))\n",
    "X['Hour'] = pd.DataFrame(0, index=range(rows), columns=range(1))"
   ]
  },
  {
   "cell_type": "code",
   "execution_count": 26,
   "metadata": {
    "scrolled": true
   },
   "outputs": [],
   "source": [
    "dates = train_df[['Created']]\n",
    "\n",
    "for r in range(dates.values.size):\n",
    "    row = dates.values[r].tolist()\n",
    "    row = \"\".join(row).split()\n",
    "    date = row[0].split('-')\n",
    "    year = date[0]\n",
    "    month = date[1]\n",
    "    day = date[2]\n",
    "    hour = row[1].split(\":\")[0]\n",
    "    X['Year'][r] = year\n",
    "    X['Month'][r] = month\n",
    "    X['Day'][r] = day\n",
    "    X['Hour'][r] = hour"
   ]
  },
  {
   "cell_type": "code",
   "execution_count": 27,
   "metadata": {
    "scrolled": true
   },
   "outputs": [
    {
     "name": "stderr",
     "output_type": "stream",
     "text": [
      "/anaconda3/lib/python3.7/site-packages/sklearn/preprocessing/label.py:219: DataConversionWarning: A column-vector y was passed when a 1d array was expected. Please change the shape of y to (n_samples, ), for example using ravel().\n",
      "  y = column_or_1d(y, warn=True)\n",
      "/anaconda3/lib/python3.7/site-packages/sklearn/preprocessing/label.py:252: DataConversionWarning: A column-vector y was passed when a 1d array was expected. Please change the shape of y to (n_samples, ), for example using ravel().\n",
      "  y = column_or_1d(y, warn=True)\n"
     ]
    }
   ],
   "source": [
    "Media_Type = train_df[['Type']]\n",
    "\n",
    "label_encoder = LabelEncoder()\n",
    "label_encoder = label_encoder.fit(Media_Type)\n",
    "Media_Type = label_encoder.transform(Media_Type)\n",
    "# print([x for x in Media_Type])\n",
    "label_encoder.classes_\n",
    "\n",
    "X['Type'] = Media_Type"
   ]
  },
  {
   "cell_type": "code",
   "execution_count": 28,
   "metadata": {},
   "outputs": [],
   "source": [
    "X_train, X_test, y_train, y_test = train_test_split(X, y ,test_size=train_sample_fraction, random_state=420)\n",
    "\n",
    "# xgb_params = {\n",
    "#     'objective': 'reg:linear',\n",
    "#     'eval_metric': 'mae',\n",
    "# }\n",
    "\n",
    "xgb = XGBRegressor(\n",
    "#     eta=0.3,\n",
    "#     gamma=0.05,\n",
    "#     max_depth=10,\n",
    "#     min_child_weight=0.5,\n",
    "#     max_delta_step=1,\n",
    "#     reg_lambda=1,\n",
    "#     alpha=1,\n",
    "    objective='reg:linear',\n",
    "    eval_metric='mae')"
   ]
  },
  {
   "cell_type": "code",
   "execution_count": 29,
   "metadata": {
    "scrolled": true
   },
   "outputs": [],
   "source": [
    "xgb.fit(X_train,y_train)\n",
    "y_pred = xgb.predict(X_test)"
   ]
  },
  {
   "cell_type": "code",
   "execution_count": 20,
   "metadata": {},
   "outputs": [],
   "source": [
    "def mean_absolute_percentage_error(y_true, y_pred):\n",
    "    y_true, y_pred = np.array(y_true), np.array(y_pred)\n",
    "    return np.mean(np.abs((y_true - y_pred) / y_true)) * 100"
   ]
  },
  {
   "cell_type": "code",
   "execution_count": 30,
   "metadata": {},
   "outputs": [
    {
     "name": "stdout",
     "output_type": "stream",
     "text": [
      "38.05003877581727\n",
      "57901.33581008584\n"
     ]
    }
   ],
   "source": [
    "MAPE = mean_absolute_percentage_error(y_test, y_pred)\n",
    "print(MAPE)\n",
    "MAE = mean_absolute_error(y_test, y_pred)\n",
    "print(MAE)"
   ]
  }
 ],
 "metadata": {
  "kernelspec": {
   "display_name": "Python 3",
   "language": "python",
   "name": "python3"
  },
  "language_info": {
   "codemirror_mode": {
    "name": "ipython",
    "version": 3
   },
   "file_extension": ".py",
   "mimetype": "text/x-python",
   "name": "python",
   "nbconvert_exporter": "python",
   "pygments_lexer": "ipython3",
   "version": "3.7.3"
  }
 },
 "nbformat": 4,
 "nbformat_minor": 2
}
